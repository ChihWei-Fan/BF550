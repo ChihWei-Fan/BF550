{
 "cells": [
  {
   "cell_type": "code",
   "execution_count": null,
   "id": "4c507514-6667-49c7-a221-9b9dad0483f3",
   "metadata": {},
   "outputs": [],
   "source": [
    "#beta come into place, find the beta relationship with 90 percent\n",
    "# find minimal N\n",
    "#do the test\n",
    "#there are two part of the HW"
   ]
  },
  {
   "cell_type": "raw",
   "id": "13cec398-f03a-419e-af0c-c9f84983b5ff",
   "metadata": {},
   "source": [
    "Problem:\n",
    "Let’s pretend that we are designing a veterinary trial for a vaccine against Hepatitis E for pigs. The probability to become infected following an exposure is pc = 0.5 for untreated pigs. The developer of the vaccine believes that this probability is reduced to pv = 0.1 following vaccination. The control and treatment arms have the same number of pigs, N, and the statistical significance is evaluated via a permutation test. How should we choose N to ensure that we have approximately 90% chance of seeing a difference between the control and treatment arms that is significant at α = 0.05 level?\n",
    "\n",
    "This problem can be solved by a large number of methods. I suggest that you pursue a computational approach. That is implement classes or functions that simulate the outcomes in control and treatment arms; implement a class or function that performs a permutation test; and determine the probability of a statistically significant difference at α = 0.05 level for a few values of N. Based on that plot, determine a suitable value of N that the problem asks for. Then perform simulations at this N and confirm that there is indeed about 90% chance that the trial passes the statistical test."
   ]
  },
  {
   "cell_type": "code",
   "execution_count": 4,
   "id": "7a0b2ef8-8351-4777-871e-2e737b3e65ce",
   "metadata": {},
   "outputs": [],
   "source": [
    "import numpy as np\n",
    "np.random.seed(20221110)\n",
    "import matplotlib.pyplot as plt\n",
    "import seaborn as sns\n",
    "sns.set()\n",
    "import scipy.stats as stats\n",
    "np.set_printoptions(precision=5)"
   ]
  },
  {
   "cell_type": "code",
   "execution_count": 5,
   "id": "ee5c6b25-144f-48b9-958e-2de3775cf2ef",
   "metadata": {},
   "outputs": [],
   "source": [
    "#Create a function that simulate the outcomes in control and treatment arms,\n",
    "# and then performs a permutation test\n",
    "def permutation_test(N):\n",
    "    control_sample_size= N\n",
    "    treated_sample_size= N\n",
    "\n",
    "    repeats=1000\n",
    "    #there are only two outcomes, get infection or not get infection\n",
    "    outcomes=np.array([0, 1])\n",
    "    control_p=[0.5, 0.5] #probability of getting infect =0.5\n",
    "    treated_p=[0.9, 0.1] #probability of getting infect =0.1\n",
    "    \n",
    "    #create the control samples \n",
    "    control_samples=np.random.choice(outcomes,size=(repeats,control_sample_size),p=control_p) #repeat = row, control_sample = columns\n",
    "    #calculate the mean in each control repeat\n",
    "    control_means=np.mean(control_samples,axis=1) #Axis =1  will calculate the mean of each row\n",
    "    \n",
    "    #create the treated samples \n",
    "    treated_samples=np.random.choice(outcomes,size=(repeats,treated_sample_size),p=treated_p)\n",
    "    #calculate the mean in each treatment repeat\n",
    "    treated_means=np.mean(treated_samples,axis=1) #Axis =1  will calculate the mean of each row\n",
    "\n",
    "    #Do the Fisher permutations \n",
    "\n",
    "    # First mix control and treated samples together\n",
    "    combined = np.concatenate((treated_samples, control_samples), axis=1)\n",
    "    #calculate the mean of means to subtract them to get the observed_difference\n",
    "    observed_difference = control_means-treated_means \n",
    "    #print(observed_difference)\n",
    "    \n",
    "    number_of_splits=1000 #split the combined sample into two groups 1000 times\n",
    "    differences=np.zeros(number_of_splits) #create an array to store the difference each time\n",
    "    all_copy= combined\n",
    "    #loop through the 1000 times\n",
    "    for i in range(number_of_splits):\n",
    "        np.random.shuffle(all_copy[i,:]) #Shuffle the combined sample\n",
    "        fake_control=all_copy[i,treated_sample_size:] #store the fake control group\n",
    "        fake_treated=all_copy[i,:treated_sample_size] #store the fake treatment group\n",
    "        #calculate the difference btw two groups and add them to the list \n",
    "        differences[i]=fake_control.mean()-fake_treated.mean()\n",
    "    #calculate the p-value\n",
    "    p_value = np.sum(differences >= observed_difference)/differences.size\n",
    "\n",
    "    return p_value"
   ]
  },
  {
   "cell_type": "code",
   "execution_count": 6,
   "id": "a842c101-34b6-44a9-b047-ea1de29a8988",
   "metadata": {},
   "outputs": [
    {
     "data": {
      "text/plain": [
       "Text(0, 0.5, 'P-value')"
      ]
     },
     "execution_count": 6,
     "metadata": {},
     "output_type": "execute_result"
    },
    {
     "data": {
      "image/png": "[encoded data removed]",
      "text/plain": [
       "<Figure size 612x324 with 1 Axes>"
      ]
     },
     "metadata": {},
     "output_type": "display_data"
    }
   ],
   "source": [
    "p_value_dic={}\n",
    "number_of_tests = 100\n",
    "#Test each value of N\n",
    "for N in range(1,31):\n",
    "    p_value_ls=[]\n",
    "    for i in range(number_of_tests):\n",
    "        #Obtain the p-value in each trial\n",
    "        p_value = permutation_test(N)\n",
    "        p_value_ls.append(p_value)\n",
    "    p_value_dic[N]= p_value_ls\n",
    "\n",
    "plt.rcParams[\"figure.figsize\"] = [8.50, 4.50]\n",
    "fig, ax = plt.subplots()\n",
    "\n",
    "ax.boxplot(p_value_dic.values())\n",
    "ax.set_xticklabels(p_value_dic.keys())\n",
    "ax.axhline(0.05,color='r')\n",
    "ax.set_xlabel('N',fontsize=12)\n",
    "ax.set_ylabel('P-value',fontsize=12)"
   ]
  },
  {
   "cell_type": "code",
   "execution_count": 7,
   "id": "a40a5ac0-5c37-434a-adc6-fbc18bc00c42",
   "metadata": {},
   "outputs": [
    {
     "name": "stdout",
     "output_type": "stream",
     "text": [
      "When N =18, the confidence that the trial passes the statistical test is : 0.863\n"
     ]
    }
   ],
   "source": [
    "#test for 1000 times\n",
    "number_of_trials = 1000\n",
    "times_pvalue_less = 0\n",
    "# loop through 1000 times of trails\n",
    "for i in range(number_of_trials):\n",
    "    #Obtain the p-value in each trial when N=18\n",
    "    p_value = permutation_test(18)\n",
    "    #print(p_value)\n",
    "\n",
    "    #Check in the p-value is less than the alph= 0.05 (level of significance)\n",
    "    if p_value <= 0.05:\n",
    "        times_pvalue_less += 1\n",
    "# the number of times that p-value is less than alph= 0.05 divided by the total number of trials to get the fraction of trail that meet the condition \n",
    "confidence = times_pvalue_less/number_of_trials\n",
    "print(\"When N =18, the confidence that the trial passes the statistical test is :\",confidence)\n"
   ]
  },
  {
   "cell_type": "code",
   "execution_count": 8,
   "id": "5770d2a4-e8e6-450e-87fa-72137051be3a",
   "metadata": {},
   "outputs": [
    {
     "name": "stdout",
     "output_type": "stream",
     "text": [
      "When N =19, the confidence that the trial passes the statistical test is : 0.972\n"
     ]
    }
   ],
   "source": [
    "#test for 1000 times\n",
    "number_of_trials = 1000\n",
    "times_pvalue_less = 0\n",
    "# loop through 1000 times of trails\n",
    "for i in range(number_of_trials):\n",
    "    #Obtain the p-value in each trial when N=19\n",
    "    p_value = permutation_test(19)\n",
    "    #print(p_value)\n",
    "\n",
    "    #Check in the p-value is less than the alph= 0.05 (level of significance)\n",
    "    if p_value <= 0.05:\n",
    "        times_pvalue_less += 1\n",
    "# the number of times that p-value is less than alph= 0.05 divided by the total number of trials to get the fraction of trail that meet the condition \n",
    "confidence = times_pvalue_less/number_of_trials\n",
    "print(\"When N =19, the confidence that the trial passes the statistical test is :\",confidence)"
   ]
  },
  {
   "cell_type": "code",
   "execution_count": null,
   "id": "3569f896-cbe9-4468-ae8e-13036d97d10e",
   "metadata": {},
   "outputs": [],
   "source": [
    "# N = 19 for one tail test"
   ]
  }
 ],
 "metadata": {
  "kernelspec": {
   "display_name": "Python 3 (ipykernel)",
   "language": "python",
   "name": "python3"
  },
  "language_info": {
   "codemirror_mode": {
    "name": "ipython",
    "version": 3
   },
   "file_extension": ".py",
   "mimetype": "text/x-python",
   "name": "python",
   "nbconvert_exporter": "python",
   "pygments_lexer": "ipython3",
   "version": "3.9.7"
  }
 },
 "nbformat": 4,
 "nbformat_minor": 5
}
